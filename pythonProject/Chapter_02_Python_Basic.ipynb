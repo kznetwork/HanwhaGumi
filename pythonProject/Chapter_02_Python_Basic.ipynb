{
 "cells": [
  {
   "cell_type": "markdown",
   "metadata": {},
   "source": [
    "# 2장 파이썬 기본 문법"
   ]
  },
  {
   "cell_type": "markdown",
   "metadata": {},
   "source": [
    "## 2.1 변수와 자료형"
   ]
  },
  {
   "cell_type": "markdown",
   "metadata": {},
   "source": [
    "### 2.1.1. 변수"
   ]
  },
  {
   "cell_type": "code",
   "execution_count": 1,
   "metadata": {},
   "outputs": [
    {
     "name": "stdout",
     "output_type": "stream",
     "text": [
      "1234\n",
      "Python is powerful.\n"
     ]
    }
   ],
   "source": [
    "n = 1234                   # 변수 n에 숫자 할당\n",
    "s = \"Python is powerful.\"  # 변수 s에 문자열 할당\n",
    "\n",
    "print(n) # 변수 n의 내용 출력\n",
    "print(s) # 변수 s의 내용 출력"
   ]
  },
  {
   "cell_type": "markdown",
   "metadata": {},
   "source": [
    "### 2.1.2 숫자(int, float)"
   ]
  },
  {
   "cell_type": "code",
   "execution_count": 2,
   "metadata": {},
   "outputs": [
    {
     "data": {
      "text/plain": [
       "int"
      ]
     },
     "execution_count": 2,
     "metadata": {},
     "output_type": "execute_result"
    }
   ],
   "source": [
    "type(123)"
   ]
  },
  {
   "cell_type": "code",
   "execution_count": 3,
   "metadata": {},
   "outputs": [
    {
     "data": {
      "text/plain": [
       "float"
      ]
     },
     "execution_count": 3,
     "metadata": {},
     "output_type": "execute_result"
    }
   ],
   "source": [
    "type(123.45)"
   ]
  },
  {
   "cell_type": "code",
   "execution_count": 4,
   "metadata": {},
   "outputs": [
    {
     "data": {
      "text/plain": [
       "7.5"
      ]
     },
     "execution_count": 4,
     "metadata": {},
     "output_type": "execute_result"
    }
   ],
   "source": [
    "5 + 2.5"
   ]
  },
  {
   "cell_type": "code",
   "execution_count": 5,
   "metadata": {},
   "outputs": [
    {
     "name": "stdout",
     "output_type": "stream",
     "text": [
      "7\n",
      "3\n",
      "10\n",
      "2.5\n",
      "2\n",
      "1\n",
      "25\n"
     ]
    }
   ],
   "source": [
    "print(5 + 2)  # 더하기\n",
    "print(5 - 2)  # 빼기\n",
    "print(5 * 2)  # 곱하기\n",
    "print(5 / 2)  # 나누기\n",
    "print(5 // 2) # 몫 구하기\n",
    "print(5 % 2)  # 나머지 구하기\n",
    "print(5 ** 2) # 거듭제곱"
   ]
  },
  {
   "cell_type": "markdown",
   "metadata": {},
   "source": [
    "[2장: 36페이지]"
   ]
  },
  {
   "cell_type": "code",
   "execution_count": 6,
   "metadata": {},
   "outputs": [
    {
     "data": {
      "text/plain": [
       "4.0"
      ]
     },
     "execution_count": 6,
     "metadata": {},
     "output_type": "execute_result"
    }
   ],
   "source": [
    "(10/5 + (5-2)) * (1.2+2) / 2**2"
   ]
  },
  {
   "cell_type": "markdown",
   "metadata": {},
   "source": [
    "### 2.1.3 문자열(str)"
   ]
  },
  {
   "cell_type": "markdown",
   "metadata": {},
   "source": [
    "[2장: 37페이지]"
   ]
  },
  {
   "cell_type": "code",
   "execution_count": 7,
   "metadata": {},
   "outputs": [
    {
     "data": {
      "text/plain": [
       "'String'"
      ]
     },
     "execution_count": 7,
     "metadata": {},
     "output_type": "execute_result"
    }
   ],
   "source": [
    "\"String\""
   ]
  },
  {
   "cell_type": "code",
   "execution_count": 8,
   "metadata": {},
   "outputs": [
    {
     "data": {
      "text/plain": [
       "'Test'"
      ]
     },
     "execution_count": 8,
     "metadata": {},
     "output_type": "execute_result"
    }
   ],
   "source": [
    "'Test'"
   ]
  },
  {
   "cell_type": "code",
   "execution_count": 9,
   "metadata": {},
   "outputs": [
    {
     "name": "stdout",
     "output_type": "stream",
     "text": [
      "String\n",
      "Test\n"
     ]
    }
   ],
   "source": [
    "print(\"String\")\n",
    "print('Test')"
   ]
  },
  {
   "cell_type": "code",
   "execution_count": 10,
   "metadata": {},
   "outputs": [
    {
     "name": "stdout",
     "output_type": "stream",
     "text": [
      "It's OK.\n"
     ]
    }
   ],
   "source": [
    "print(\"It's OK.\")"
   ]
  },
  {
   "cell_type": "code",
   "execution_count": 11,
   "metadata": {},
   "outputs": [
    {
     "name": "stdout",
     "output_type": "stream",
     "text": [
      "그는 \"파이썬이 무엇입니까?\"라고 물었습니다.\n"
     ]
    }
   ],
   "source": [
    "print('그는 \"파이썬이 무엇입니까?\"라고 물었습니다.')"
   ]
  },
  {
   "cell_type": "markdown",
   "metadata": {},
   "source": [
    "[2장: 38페이지]"
   ]
  },
  {
   "cell_type": "code",
   "execution_count": 12,
   "metadata": {},
   "outputs": [
    {
     "data": {
      "text/plain": [
       "str"
      ]
     },
     "execution_count": 12,
     "metadata": {},
     "output_type": "execute_result"
    }
   ],
   "source": [
    "type('Hello Python!')"
   ]
  },
  {
   "cell_type": "code",
   "execution_count": 13,
   "metadata": {},
   "outputs": [
    {
     "data": {
      "text/plain": [
       "'Hello Python !'"
      ]
     },
     "execution_count": 13,
     "metadata": {},
     "output_type": "execute_result"
    }
   ],
   "source": [
    "\"Hello\" + \" \" + \"Python \" + \"!\""
   ]
  },
  {
   "cell_type": "code",
   "execution_count": 14,
   "metadata": {},
   "outputs": [
    {
     "data": {
      "text/plain": [
       "'PythonPythonPython'"
      ]
     },
     "execution_count": 14,
     "metadata": {},
     "output_type": "execute_result"
    }
   ],
   "source": [
    "\"Python\" * 3"
   ]
  },
  {
   "cell_type": "code",
   "execution_count": 15,
   "metadata": {},
   "outputs": [
    {
     "data": {
      "text/plain": [
       "6"
      ]
     },
     "execution_count": 15,
     "metadata": {},
     "output_type": "execute_result"
    }
   ],
   "source": [
    "len(\"Python\")"
   ]
  },
  {
   "cell_type": "code",
   "execution_count": 16,
   "metadata": {},
   "outputs": [
    {
     "data": {
      "text/plain": [
       "7"
      ]
     },
     "execution_count": 16,
     "metadata": {},
     "output_type": "execute_result"
    }
   ],
   "source": [
    "len(\"Python \")"
   ]
  },
  {
   "cell_type": "markdown",
   "metadata": {},
   "source": [
    "[2장: 39페이지]"
   ]
  },
  {
   "cell_type": "code",
   "execution_count": 17,
   "metadata": {},
   "outputs": [
    {
     "name": "stdout",
     "output_type": "stream",
     "text": [
      "판결문에서 긴 법률명을 줄여 쓸 때\n",
      "소괄호 안에 \"이하 '~~법'이라 한다\"라고 쓴다.\n"
     ]
    }
   ],
   "source": [
    "long_str = '''판결문에서 긴 법률명을 줄여 쓸 때\n",
    "소괄호 안에 \"이하 '~~법'이라 한다\"라고 쓴다.'''\n",
    "\n",
    "print(long_str)"
   ]
  },
  {
   "cell_type": "markdown",
   "metadata": {},
   "source": [
    "### 2.1.4 불(bool)"
   ]
  },
  {
   "cell_type": "markdown",
   "metadata": {},
   "source": [
    "[2장: 40페이지]"
   ]
  },
  {
   "cell_type": "code",
   "execution_count": 18,
   "metadata": {},
   "outputs": [
    {
     "name": "stdout",
     "output_type": "stream",
     "text": [
      "False\n",
      "True\n",
      "True\n"
     ]
    }
   ],
   "source": [
    "print(True and False)\n",
    "print(True or False)\n",
    "print(not False)"
   ]
  },
  {
   "cell_type": "code",
   "execution_count": 19,
   "metadata": {},
   "outputs": [
    {
     "name": "stdout",
     "output_type": "stream",
     "text": [
      "False\n",
      "True\n",
      "False\n",
      "True\n",
      "False\n",
      "True\n",
      "False\n",
      "True\n"
     ]
    }
   ],
   "source": [
    "# 숫자 자료형에 대한 비교 연산자 활용 예\n",
    "print(10 == 5)  # 10과 5는 같다 --> 거짓(False)\n",
    "print(10 != 5)  # 10과 5는 같지 않다 --> 참(True)\n",
    "print(10 < 5)   # 10은 5보다 작다 --> 거짓(False)\n",
    "print(10 > 5)   # 10은 5보다 크다 --> 참(True)\n",
    "print(10 <= 5)  # 10은 5보다 작거나 같다 --> 거짓(False)\n",
    "print(10 >= 5)  # 10은 5보다 크거나 같다 --> 참(True)\n",
    "\n",
    "# 불 자료형에 대한 논리 연산자 활용 예\n",
    "print(True == False) # True와 False는 같다 --> 거짓(False)\n",
    "print(True != False) # True와 False는 같지 않다 --> 참(True)"
   ]
  },
  {
   "cell_type": "markdown",
   "metadata": {},
   "source": [
    "[2장: 40페이지]"
   ]
  },
  {
   "cell_type": "code",
   "execution_count": 20,
   "metadata": {},
   "outputs": [
    {
     "data": {
      "text/plain": [
       "True"
      ]
     },
     "execution_count": 20,
     "metadata": {},
     "output_type": "execute_result"
    }
   ],
   "source": [
    "1 > 0 and (5 > 10 or 3 < 5)"
   ]
  },
  {
   "cell_type": "markdown",
   "metadata": {},
   "source": [
    "### 2.1.5 리스트(list)"
   ]
  },
  {
   "cell_type": "markdown",
   "metadata": {},
   "source": [
    "#### 리스트 만들기"
   ]
  },
  {
   "cell_type": "markdown",
   "metadata": {},
   "source": [
    "[2장: 42페이지]"
   ]
  },
  {
   "cell_type": "code",
   "execution_count": 21,
   "metadata": {},
   "outputs": [
    {
     "name": "stdout",
     "output_type": "stream",
     "text": [
      "[10, 20, 30, 40]\n",
      "['programming', 'language', 'python']\n",
      "[1.5, 2.6, '문자열1', '문자열2']\n",
      "[4.0, True, 'abc', [1.5, 2.6, '문자열1', '문자열2']]\n",
      "[]\n"
     ]
    }
   ],
   "source": [
    "list_num = [10, 20, 30, 40] # 숫자로 리스트를 구성\n",
    "list_str = ['programming', 'language', 'python'] # 문자열로 리스트를 구성\n",
    "list_mix1 = [1.5, 2.6, '문자열1', '문자열2'] # 숫자와 문자열로 리스트를 구성\n",
    "list_mix2 = [4.0, True, 'abc', list_mix1] # 숫자, 불, 문자열, 리스트로 리스트를 구성\n",
    "list_empty = [] # 요소가 없는 빈 리스트\n",
    "\n",
    "print(list_num)\n",
    "print(list_str)\n",
    "print(list_mix1)\n",
    "print(list_mix2)\n",
    "print(list_empty)"
   ]
  },
  {
   "cell_type": "markdown",
   "metadata": {},
   "source": [
    "[2장: 43페이지]"
   ]
  },
  {
   "cell_type": "code",
   "execution_count": 22,
   "metadata": {},
   "outputs": [
    {
     "name": "stdout",
     "output_type": "stream",
     "text": [
      "4\n",
      "3\n",
      "4\n",
      "4\n",
      "0\n"
     ]
    }
   ],
   "source": [
    "print(len(list_num))   # 요소의 개수: 4\n",
    "print(len(list_str))   # 요소의 개수: 3\n",
    "print(len(list_mix1))  # 요소의 개수: 4\n",
    "print(len(list_mix2))  # 요소의 개수: 4\n",
    "print(len(list_empty)) # 요소의 개수: 0"
   ]
  },
  {
   "cell_type": "markdown",
   "metadata": {},
   "source": [
    "#### 리스트 인덱싱"
   ]
  },
  {
   "cell_type": "markdown",
   "metadata": {},
   "source": [
    "[2장: 44페이지]"
   ]
  },
  {
   "cell_type": "code",
   "execution_count": 23,
   "metadata": {},
   "outputs": [
    {
     "name": "stdout",
     "output_type": "stream",
     "text": [
      "[10, 20, 30, 40]\n",
      "10\n",
      "20\n",
      "40\n",
      "40\n",
      "30\n"
     ]
    }
   ],
   "source": [
    "print(list_num)    # list_num 출력\n",
    "print(list_num[0]) # list_num의 첫 번째 요소를 가져옴 \n",
    "print(list_num[1]) # list_num의 두 번째 요소를 가져옴 \n",
    "print(list_num[3]) # list_num의 네 번째 요소를 가져옴\n",
    "print(list_num[-1]) # list_num의 마지막 요소를 가져옴 (음수 인덱스 이용)\n",
    "print(list_num[-2]) # list_num의 마지막 요소 앞의 요소를 가져옴 (음수 인덱스 이용)"
   ]
  },
  {
   "cell_type": "code",
   "execution_count": 24,
   "metadata": {},
   "outputs": [
    {
     "name": "stdout",
     "output_type": "stream",
     "text": [
      "[4.0, True, 'abc', [1.5, 2.6, '문자열1', '문자열2']]\n",
      "[1.5, 2.6, '문자열1', '문자열2']\n",
      "문자열1\n"
     ]
    }
   ],
   "source": [
    "print(list_mix2)       # list_mix2 출력\n",
    "print(list_mix2[3])    # list_mix2에서 네 번째 요소를 가져옴\n",
    "print(list_mix2[3][2]) # 네 번째 요소인 리스트에서 세 번째 요소를 가져옴"
   ]
  },
  {
   "cell_type": "markdown",
   "metadata": {},
   "source": [
    "[2장: 45페이지]"
   ]
  },
  {
   "cell_type": "code",
   "execution_count": 25,
   "metadata": {},
   "outputs": [
    {
     "name": "stdout",
     "output_type": "stream",
     "text": [
      "[100, 200, 300, 400]\n",
      "[100, 500, 300, 400]\n"
     ]
    }
   ],
   "source": [
    "list_num1 = [100, 200, 300, 400] # 리스트 생성\n",
    "print(list_num1) \n",
    "\n",
    "list_num1[1] = 500 # 두 번째 요소에 새로운 데이터를 할당\n",
    "print(list_num1)"
   ]
  },
  {
   "cell_type": "code",
   "execution_count": 26,
   "metadata": {},
   "outputs": [
    {
     "name": "stdout",
     "output_type": "stream",
     "text": [
      "[0, 10, 20, 30, 40, 50]\n",
      "[0, 10, 30, 40, 50]\n"
     ]
    }
   ],
   "source": [
    "list_num2 = [0, 10, 20, 30, 40, 50] # 숫자로 리스트를 구성\n",
    "print(list_num2)\n",
    "\n",
    "del list_num2[2] # 리스트에서 인덱스가 2인 요소를 제거\n",
    "print(list_num2)"
   ]
  },
  {
   "cell_type": "code",
   "execution_count": 27,
   "metadata": {},
   "outputs": [
    {
     "name": "stdout",
     "output_type": "stream",
     "text": [
      "ABCDEFG\n",
      "A\n",
      "B\n",
      "G\n",
      "F\n"
     ]
    }
   ],
   "source": [
    "str1 = \"ABCDEFG\"\n",
    "print(str1)      # 문자열 전체 출력\n",
    "print(str1[0])   # 문자열 첫 번째 요소를 가져옴 \n",
    "print(str1[1])   # 문자열 두 번째 요소를 가져옴 \n",
    "print(str1[-1])  # 문자열의 마지막 요소를 가져옴 (음수 인덱스 이용)\n",
    "print(str1[-2])  # 문자열의 마지막 요소 앞의 요소를 가져옴 (음수 인덱스 이용)"
   ]
  },
  {
   "cell_type": "markdown",
   "metadata": {},
   "source": [
    "#### 리스트 슬라이싱"
   ]
  },
  {
   "cell_type": "markdown",
   "metadata": {},
   "source": [
    "[2장: 46페이지]"
   ]
  },
  {
   "cell_type": "code",
   "execution_count": 28,
   "metadata": {},
   "outputs": [
    {
     "name": "stdout",
     "output_type": "stream",
     "text": [
      "[0, 10, 20, 30, 40, 50, 60, 70, 80, 90]\n",
      "[0, 10, 20, 30]\n",
      "[50, 60, 70, 80, 90]\n",
      "[0, 10, 20, 30]\n",
      "[50, 60, 70, 80, 90]\n",
      "[0, 10, 20, 30, 40, 50, 60, 70, 80, 90]\n"
     ]
    }
   ],
   "source": [
    "list_num3 = [0, 10, 20, 30, 40, 50, 60, 70, 80, 90] # 리스트 생성\n",
    "\n",
    "print(list_num3)       # 리스트 출력\n",
    "print(list_num3[0:4])  # 인덱스 범위: 0 ~ 3\n",
    "print(list_num3[5:10]) # 인덱스 범위: 5 ~ 9\n",
    "print(list_num3[:4])   # start를 생략. 인덱스 범위: 0 ~ 3\n",
    "print(list_num3[5:])   # end를 생략. 인덱스 범위: 5 ~ 끝(9)\n",
    "print(list_num3[:])    # start와 end 둘 다 생략. 인덱스 범위: 모든 인덱스"
   ]
  },
  {
   "cell_type": "markdown",
   "metadata": {},
   "source": [
    "[2장: 47페이지]"
   ]
  },
  {
   "cell_type": "code",
   "execution_count": 29,
   "metadata": {},
   "outputs": [
    {
     "name": "stdout",
     "output_type": "stream",
     "text": [
      "가다나다라마사ABCDEFG1234567\n",
      "가다나다라마사\n",
      "가다나다라마사\n",
      "ABCDEFG\n",
      "1234567\n"
     ]
    }
   ],
   "source": [
    "str2 = \"가다나다라마사ABCDEFG1234567\"\n",
    "print(str2)        # 문자열 전체 출력\n",
    "print(str2[0:7])   # 문자열 인덱스 범위: 0 ~ 6\n",
    "print(str2[:7])    # start를 생략. 문자열 인덱스 범위: 0 ~ 6\n",
    "print(str2[7:14])  # 문자열 인덱스 범위: 7 ~ 13\n",
    "print(str2[14:])   # 문자열 인덱스 범위: 14 ~ 끝(20)"
   ]
  },
  {
   "cell_type": "markdown",
   "metadata": {},
   "source": [
    "#### 리스트 메서드"
   ]
  },
  {
   "cell_type": "markdown",
   "metadata": {},
   "source": [
    "[2장: 47페이지]"
   ]
  },
  {
   "cell_type": "code",
   "execution_count": 30,
   "metadata": {},
   "outputs": [
    {
     "name": "stdout",
     "output_type": "stream",
     "text": [
      "['토마스']\n",
      "['토마스', '고든']\n",
      "['토마스', '고든', '에드워드']\n"
     ]
    }
   ],
   "source": [
    "friends = ['토마스'] # 리스트를 생성\n",
    "print(friends)\n",
    "\n",
    "friends.append('고든') # 리스트의 끝에 요소('고든')를 추가\n",
    "print(friends)\n",
    "\n",
    "friends.append('에드워드') # 리스트의 끝에 요소('에드워드')를 추가\n",
    "print(friends)"
   ]
  },
  {
   "cell_type": "markdown",
   "metadata": {},
   "source": [
    "### 2.1.6 튜플(tuple)"
   ]
  },
  {
   "cell_type": "markdown",
   "metadata": {},
   "source": [
    "#### 튜플 만들기"
   ]
  },
  {
   "cell_type": "markdown",
   "metadata": {},
   "source": [
    "[2장: 48페이지]"
   ]
  },
  {
   "cell_type": "code",
   "execution_count": 31,
   "metadata": {},
   "outputs": [
    {
     "name": "stdout",
     "output_type": "stream",
     "text": [
      "(0, 1, 2, 3, 4)\n",
      "(5, 6, 7, 8, 9)\n"
     ]
    }
   ],
   "source": [
    "tuple_num1 = (0, 1, 2, 3, 4) # 소괄호로 튜플을 생성\n",
    "tuple_num2 =  5, 6, 7, 8, 9  # 괄호 없이 튜플을 생성\n",
    "\n",
    "print(tuple_num1)\n",
    "print(tuple_num2)"
   ]
  },
  {
   "cell_type": "markdown",
   "metadata": {},
   "source": [
    "[2장: 49페이지]"
   ]
  },
  {
   "cell_type": "code",
   "execution_count": 32,
   "metadata": {},
   "outputs": [
    {
     "name": "stdout",
     "output_type": "stream",
     "text": [
      "(10,)\n",
      "('데이터1',)\n"
     ]
    }
   ],
   "source": [
    "tuple_num3 = (10, )      # 소괄호로 하나의 요소를 갖는 튜플 생성\n",
    "tuple_num4 =  \"데이터1\", # 괄호 없이 하나의 요소를 갖는 튜플 생성 \n",
    "\n",
    "print(tuple_num3)\n",
    "print(tuple_num4)"
   ]
  },
  {
   "cell_type": "markdown",
   "metadata": {},
   "source": [
    "#### 튜플 다루기"
   ]
  },
  {
   "cell_type": "markdown",
   "metadata": {},
   "source": [
    "[2장: 49페이지]"
   ]
  },
  {
   "cell_type": "code",
   "execution_count": 33,
   "metadata": {},
   "outputs": [
    {
     "name": "stdout",
     "output_type": "stream",
     "text": [
      "programming\n",
      "('programming', 'language', 'python', 1)\n"
     ]
    }
   ],
   "source": [
    "tuple_mixed1 = ('programming', 'language', 'python', 1, 2, 3) # 튜플 생성\n",
    "print(tuple_mixed1[0])   # 튜플 인덱싱\n",
    "print(tuple_mixed1[0:4]) # 튜플 슬라이싱(인덱스 0~3까지의 요소를 선택)"
   ]
  },
  {
   "cell_type": "markdown",
   "metadata": {},
   "source": [
    "### 2.1.7 세트(set)"
   ]
  },
  {
   "cell_type": "markdown",
   "metadata": {},
   "source": [
    "#### 세트 만들기"
   ]
  },
  {
   "cell_type": "markdown",
   "metadata": {},
   "source": [
    "[2장: 50페이지]"
   ]
  },
  {
   "cell_type": "code",
   "execution_count": 34,
   "metadata": {},
   "outputs": [
    {
     "name": "stdout",
     "output_type": "stream",
     "text": [
      "{2, 3, 100, 5, 4, 10}\n",
      "{'사과', '귤', '배', '오렌지'}\n"
     ]
    }
   ],
   "source": [
    "set_num = {10, 100, 2, 3, 4, 4, 5}\n",
    "set_str = {\"사과\", \"배\", \"오렌지\", \"귤\", \"귤\"}\n",
    "\n",
    "print(set_num)\n",
    "print(set_str)"
   ]
  },
  {
   "cell_type": "code",
   "execution_count": 35,
   "metadata": {},
   "outputs": [
    {
     "ename": "TypeError",
     "evalue": "'set' object is not subscriptable",
     "output_type": "error",
     "traceback": [
      "\u001b[1;31m---------------------------------------------------------------------------\u001b[0m",
      "\u001b[1;31mTypeError\u001b[0m                                 Traceback (most recent call last)",
      "Cell \u001b[1;32mIn[35], line 1\u001b[0m\n\u001b[1;32m----> 1\u001b[0m \u001b[43mset_num\u001b[49m\u001b[43m[\u001b[49m\u001b[38;5;241;43m0\u001b[39;49m\u001b[43m]\u001b[49m\n",
      "\u001b[1;31mTypeError\u001b[0m: 'set' object is not subscriptable"
     ]
    }
   ],
   "source": [
    "set_num[0]"
   ]
  },
  {
   "cell_type": "markdown",
   "metadata": {},
   "source": [
    "#### 세트의 교집합, 합집합, 차집합"
   ]
  },
  {
   "cell_type": "markdown",
   "metadata": {},
   "source": [
    "[2장: 51페이지]"
   ]
  },
  {
   "cell_type": "code",
   "execution_count": 36,
   "metadata": {},
   "outputs": [
    {
     "name": "stdout",
     "output_type": "stream",
     "text": [
      "{3, 4}\n",
      "{0, 1, 2, 3, 4, 5, 6, 7}\n",
      "{0, 1, 2}\n",
      "{3, 4}\n",
      "{0, 1, 2, 3, 4, 5, 6, 7}\n",
      "{0, 1, 2}\n"
     ]
    }
   ],
   "source": [
    "set_A = {0, 1, 2, 3, 4} # 세트(집합) A\n",
    "set_B = {3, 4, 5, 6, 7} # 세트(집합) B\n",
    "\n",
    "# &, |, - 연산자 사용\n",
    "print(set_A & set_B)    # 집합 A와 B의 교집합(A∩B)\n",
    "print(set_A | set_B)    # 집합 A와 B의 합집합(A∪B)\n",
    "print(set_A - set_B)    # 집합 A와 B의 차집합(A―B)\n",
    "\n",
    "# intersection(), union(), difference() 메서드 사용\n",
    "print(set_A.intersection(set_B)) # 집합 A와 B의 교집합(A∩B)\n",
    "print(set_A.union(set_B))        # 집합 A와 B의 합집합(A∪B)\n",
    "print(set_A.difference(set_B))   # 집합 A와 B의 차집합(A―B)"
   ]
  },
  {
   "cell_type": "markdown",
   "metadata": {},
   "source": [
    "### 2.1.8 딕셔너리(dict)"
   ]
  },
  {
   "cell_type": "markdown",
   "metadata": {},
   "source": [
    "#### 딕셔너리 만들기"
   ]
  },
  {
   "cell_type": "markdown",
   "metadata": {},
   "source": [
    "[2장: 52페이지]"
   ]
  },
  {
   "cell_type": "code",
   "execution_count": 37,
   "metadata": {},
   "outputs": [
    {
     "name": "stdout",
     "output_type": "stream",
     "text": [
      "{1: '사과', 2: '배', 3: '복숭아', 4: '딸기'}\n",
      "{1: 1234, 5: 5678, 7: 7890}\n",
      "{True: '맞습니다.', False: '아닙니다.'}\n",
      "{'ID_101': ['민준', 24], 'ID_102': ['서연', 27]}\n"
     ]
    }
   ],
   "source": [
    "dict_ex1 = {1:'사과', 2:'배', 3:'복숭아', 4:'딸기'}     # 키는 숫자, 값은 문자열\n",
    "dict_ex2 = {1:1234, 5:5678, 7:7890}                     # 키와 값이 모두 숫자\n",
    "dict_ex3 = {True: '맞습니다.', False:'아닙니다.'}      # 키는 불, 값은 문자열 \n",
    "dict_ex4 = {'ID_101':['민준',24], 'ID_102':['서연',27]} # 키는 문자열, 값은 리스트\n",
    "\n",
    "print(dict_ex1)\n",
    "print(dict_ex2)\n",
    "print(dict_ex3)\n",
    "print(dict_ex4)"
   ]
  },
  {
   "cell_type": "markdown",
   "metadata": {},
   "source": [
    "#### 딕셔너리 키로 값 선택, 변경, 추가, 삭제하기"
   ]
  },
  {
   "cell_type": "markdown",
   "metadata": {},
   "source": [
    "[2장: 53페이지]"
   ]
  },
  {
   "cell_type": "code",
   "execution_count": 38,
   "metadata": {},
   "outputs": [
    {
     "name": "stdout",
     "output_type": "stream",
     "text": [
      "사과\n",
      "7890\n",
      "맞습니다.\n",
      "['서연', 27]\n"
     ]
    }
   ],
   "source": [
    "print(dict_ex1[1])\n",
    "print(dict_ex2[7])\n",
    "print(dict_ex3[True])\n",
    "print(dict_ex4['ID_102'])"
   ]
  },
  {
   "cell_type": "markdown",
   "metadata": {},
   "source": [
    "[2장: 53페이지]"
   ]
  },
  {
   "cell_type": "code",
   "execution_count": 39,
   "metadata": {},
   "outputs": [
    {
     "name": "stdout",
     "output_type": "stream",
     "text": [
      "{'이름': '박재민', '나이': 24}\n",
      "{'이름': '박재민', '나이': 25}\n",
      "{'이름': '박재민', '나이': 25, '취미': ['게임', '농구']}\n"
     ]
    }
   ],
   "source": [
    "dict_user = {\"이름\": \"박재민\", \"나이\": 24} # 딕셔너리 생성\n",
    "print(dict_user)\n",
    "\n",
    "dict_user[\"나이\"] = 25 # 기존 키로 값을 변경\n",
    "print(dict_user)\n",
    "\n",
    "dict_user[\"취미\"] = [\"게임\", \"농구\"] # 새로운 키와 값의 쌍을 추가\n",
    "print(dict_user)"
   ]
  },
  {
   "cell_type": "markdown",
   "metadata": {},
   "source": [
    "[2장: 54페이지]"
   ]
  },
  {
   "cell_type": "code",
   "execution_count": 40,
   "metadata": {
    "scrolled": true
   },
   "outputs": [
    {
     "name": "stdout",
     "output_type": "stream",
     "text": [
      "{'이름': '조수빈', '나이': 28, '취미': ['독서', '영화']}\n",
      "{'이름': '조수빈', '나이': 28}\n"
     ]
    }
   ],
   "source": [
    "dict_user2 = {'이름': '조수빈', '나이': 28, '취미': ['독서', '영화']}\n",
    "print(dict_user2)\n",
    "\n",
    "del dict_user2['취미'] # del을 이용해 딕셔너리의 특정 키와 값의 쌍을 삭제  \n",
    "print(dict_user2)"
   ]
  },
  {
   "cell_type": "markdown",
   "metadata": {},
   "source": [
    "#### 딕셔너리 메서드"
   ]
  },
  {
   "cell_type": "markdown",
   "metadata": {},
   "source": [
    "[2장: 55페이지]"
   ]
  },
  {
   "cell_type": "code",
   "execution_count": 41,
   "metadata": {},
   "outputs": [
    {
     "name": "stdout",
     "output_type": "stream",
     "text": [
      "{0: 'a', 1: 'b', 2: 'c', 3: 'd', 4: 'e'}\n",
      "dict_keys([0, 1, 2, 3, 4])\n",
      "dict_values(['a', 'b', 'c', 'd', 'e'])\n",
      "dict_items([(0, 'a'), (1, 'b'), (2, 'c'), (3, 'd'), (4, 'e')])\n"
     ]
    }
   ],
   "source": [
    "dict_num_alpha = {0: 'a', 1: 'b', 2: 'c', 3: 'd', 4: 'e'} # 딕셔너리 생성\n",
    "print(dict_num_alpha) # dict_num_alpha 출력\n",
    "print(dict_num_alpha.keys())   # 딕셔너리의 키를 가져옴\n",
    "print(dict_num_alpha.values()) # 딕셔너리의 값을 가져옴\n",
    "print(dict_num_alpha.items())  # 딕셔너리의 키와 값의 쌍을 가져옴"
   ]
  },
  {
   "cell_type": "code",
   "execution_count": 42,
   "metadata": {},
   "outputs": [
    {
     "name": "stdout",
     "output_type": "stream",
     "text": [
      "[0, 1, 2, 3, 4]\n",
      "['a', 'b', 'c', 'd', 'e']\n",
      "[(0, 'a'), (1, 'b'), (2, 'c'), (3, 'd'), (4, 'e')]\n"
     ]
    }
   ],
   "source": [
    "print(list(dict_num_alpha.keys()))   # 딕셔너리 키의 반환 결과를 리스트로 변환\n",
    "print(list(dict_num_alpha.values())) # 딕셔너리 값의 반환 결과를 리스트로 변환\n",
    "print(list(dict_num_alpha.items()))  # 딕셔너리 키와 값의 쌍 반환 결과를 리스트로 변환"
   ]
  },
  {
   "cell_type": "markdown",
   "metadata": {},
   "source": [
    "[2장: 55페이지]"
   ]
  },
  {
   "cell_type": "code",
   "execution_count": 43,
   "metadata": {},
   "outputs": [
    {
     "name": "stdout",
     "output_type": "stream",
     "text": [
      "{0: 'a', 1: 'b', 2: 'c', 3: 'd', 4: 'e'}\n",
      "{0: 'a', 1: 'b', 2: 'c', 3: 'd', 4: 'e', 5: 'f', 6: 'g'}\n"
     ]
    }
   ],
   "source": [
    "print(dict_num_alpha) # 기존 딕셔너리 출력\n",
    "\n",
    "dict_new = {5: 'f', 6: 'g'} # 딕셔너리 생성\n",
    "dict_num_alpha.update(dict_new) # 기존 딕셔너리에 새로운 딕셔너리의 키와 값의 쌍을 추가\n",
    "print(dict_num_alpha) # 새로운 딕셔너리 추가 후 딕셔너리 출력"
   ]
  },
  {
   "cell_type": "code",
   "execution_count": 44,
   "metadata": {},
   "outputs": [
    {
     "name": "stdout",
     "output_type": "stream",
     "text": [
      "b\n",
      "None\n"
     ]
    }
   ],
   "source": [
    "print(dict_num_alpha.get(1)) # 입력값이 딕셔너리 키에 있으면 대응하는 값을 반환 \n",
    "print(dict_num_alpha.get(7)) # 입력값이 딕셔너리 키에 없으면 None을 반환"
   ]
  },
  {
   "cell_type": "code",
   "execution_count": 45,
   "metadata": {},
   "outputs": [
    {
     "name": "stdout",
     "output_type": "stream",
     "text": [
      "{0: 'zero', 1: 'one', 2: 'two', 3: 'three'}\n",
      "{}\n"
     ]
    }
   ],
   "source": [
    "dict_num_eng = {0: 'zero', 1: 'one', 2: 'two', 3: 'three'}\n",
    "print(dict_num_eng)\n",
    "\n",
    "dict_num_eng.clear() # 딕셔너리의 모든 키와 값의 쌍을 삭제\n",
    "print(dict_num_eng)"
   ]
  },
  {
   "cell_type": "markdown",
   "metadata": {},
   "source": [
    "## 2.2 제어문"
   ]
  },
  {
   "cell_type": "markdown",
   "metadata": {},
   "source": [
    "### 2.2.1 조건문"
   ]
  },
  {
   "cell_type": "markdown",
   "metadata": {},
   "source": [
    "#### 단일 조건에 따른 분기: if"
   ]
  },
  {
   "cell_type": "markdown",
   "metadata": {},
   "source": [
    "[2장: 57페이지]"
   ]
  },
  {
   "cell_type": "code",
   "execution_count": 46,
   "metadata": {},
   "outputs": [
    {
     "name": "stdout",
     "output_type": "stream",
     "text": [
      "합격\n"
     ]
    }
   ],
   "source": [
    "x = 95           # x에 95를 할당\n",
    "\n",
    "if x >= 90:      # <조건>\n",
    "    print(\"합격\") # <조건>이 참이면 <코드 블록>을 수행"
   ]
  },
  {
   "cell_type": "markdown",
   "metadata": {},
   "source": [
    "#### 단일 조건과 그 외에 따른 분기: if ~ else"
   ]
  },
  {
   "cell_type": "markdown",
   "metadata": {},
   "source": [
    "[2장: 58페이지]"
   ]
  },
  {
   "cell_type": "code",
   "execution_count": 47,
   "metadata": {},
   "outputs": [
    {
     "name": "stdout",
     "output_type": "stream",
     "text": [
      "죄송합니다.\n",
      "당신은 불합격입니다.\n"
     ]
    }
   ],
   "source": [
    "x = 85                            # x에 85를 할당\n",
    "\n",
    "if x >= 90:                      # <조건>\n",
    "    print(\"축하합니다.\")          # <코드 블록 1>\n",
    "    print(\"당신은 합격입니다.\")   # <조건>이 참이면 <코드 블록 1>을 수행\n",
    "else:\n",
    "    print(\"죄송합니다.\")          # <코드 블록 2>\n",
    "    print(\"당신은 불합격입니다.\") # <조건>이 참이 아니면 <코드 블록 2>를 수행"
   ]
  },
  {
   "cell_type": "markdown",
   "metadata": {},
   "source": [
    "### 2.2.2 반복문"
   ]
  },
  {
   "cell_type": "markdown",
   "metadata": {},
   "source": [
    "#### for 반복문"
   ]
  },
  {
   "cell_type": "markdown",
   "metadata": {},
   "source": [
    "[2장: 59페이지]"
   ]
  },
  {
   "cell_type": "code",
   "execution_count": 48,
   "metadata": {},
   "outputs": [
    {
     "name": "stdout",
     "output_type": "stream",
     "text": [
      "0\n",
      "1\n",
      "2\n",
      "3\n",
      "4\n",
      "5\n"
     ]
    }
   ],
   "source": [
    "for num in [0, 1, 2, 3, 4, 5]:\n",
    "    print(num)"
   ]
  },
  {
   "cell_type": "markdown",
   "metadata": {},
   "source": [
    "[2장: 60페이지]"
   ]
  },
  {
   "cell_type": "code",
   "execution_count": 49,
   "metadata": {},
   "outputs": [
    {
     "data": {
      "text/plain": [
       "[0, 1, 2, 3, 4, 5, 6, 7, 8, 9]"
      ]
     },
     "execution_count": 49,
     "metadata": {},
     "output_type": "execute_result"
    }
   ],
   "source": [
    "list(range(0, 10, 1))"
   ]
  },
  {
   "cell_type": "code",
   "execution_count": 50,
   "metadata": {},
   "outputs": [
    {
     "data": {
      "text/plain": [
       "[0, 1, 2, 3, 4, 5, 6, 7, 8, 9]"
      ]
     },
     "execution_count": 50,
     "metadata": {},
     "output_type": "execute_result"
    }
   ],
   "source": [
    "list(range(10))"
   ]
  },
  {
   "cell_type": "code",
   "execution_count": 51,
   "metadata": {},
   "outputs": [
    {
     "name": "stdout",
     "output_type": "stream",
     "text": [
      "0\n",
      "1\n",
      "2\n",
      "3\n",
      "4\n",
      "5\n"
     ]
    }
   ],
   "source": [
    "for num in range(6):\n",
    "    print(num)"
   ]
  },
  {
   "cell_type": "code",
   "execution_count": 52,
   "metadata": {},
   "outputs": [
    {
     "data": {
      "text/plain": [
       "[4, 3, 2, 1, 0]"
      ]
     },
     "execution_count": 52,
     "metadata": {},
     "output_type": "execute_result"
    }
   ],
   "source": [
    "numbers = [10, 11, 12, 13, 14]  # 리스트의 길이는 5\n",
    "list(range(len(numbers)-1, -1, -1)) # 리스트의 인덱스를 역순으로 생성"
   ]
  },
  {
   "cell_type": "markdown",
   "metadata": {},
   "source": [
    "[2장: 61페이지]"
   ]
  },
  {
   "cell_type": "code",
   "execution_count": 53,
   "metadata": {},
   "outputs": [
    {
     "name": "stdout",
     "output_type": "stream",
     "text": [
      "4 14\n",
      "3 13\n",
      "2 12\n",
      "1 11\n",
      "0 10\n"
     ]
    }
   ],
   "source": [
    "for k in range(len(numbers)-1, -1, -1): # 리스트의 인덱스를 역순으로 가져와서 처리\n",
    "    print(k, numbers[k]) # 리스트 인덱스(k)와 리스트 요소 출력"
   ]
  },
  {
   "cell_type": "markdown",
   "metadata": {},
   "source": [
    "[2장: 61페이지]"
   ]
  },
  {
   "cell_type": "code",
   "execution_count": 54,
   "metadata": {},
   "outputs": [
    {
     "name": "stdout",
     "output_type": "stream",
     "text": [
      "0 10\n",
      "1 20\n",
      "2 30\n",
      "3 40\n"
     ]
    }
   ],
   "source": [
    "list_num = [10, 20, 30, 40]\n",
    "\n",
    "for index, value in enumerate(list_num):\n",
    "     print(index, value)"
   ]
  },
  {
   "cell_type": "markdown",
   "metadata": {},
   "source": [
    "[2장: 62페이지]"
   ]
  },
  {
   "cell_type": "code",
   "execution_count": 55,
   "metadata": {},
   "outputs": [],
   "source": [
    "names = [\"남온조\", \"이청산\", \"최남라\", \"이수혁\", \"이나연\", \"양대수\"] # 이름\n",
    "scores = [96, 85, 100, 70, 80, 75] # 시험 점수"
   ]
  },
  {
   "cell_type": "code",
   "execution_count": 56,
   "metadata": {},
   "outputs": [
    {
     "name": "stdout",
     "output_type": "stream",
     "text": [
      "남온조 96\n",
      "이청산 85\n",
      "최남라 100\n",
      "이수혁 70\n",
      "이나연 80\n",
      "양대수 75\n"
     ]
    }
   ],
   "source": [
    "for k in range(len(names)):\n",
    "    print(names[k], scores[k])"
   ]
  },
  {
   "cell_type": "markdown",
   "metadata": {},
   "source": [
    "[2장: 63페이지]"
   ]
  },
  {
   "cell_type": "code",
   "execution_count": 57,
   "metadata": {},
   "outputs": [
    {
     "name": "stdout",
     "output_type": "stream",
     "text": [
      "남온조 96\n",
      "이청산 85\n",
      "최남라 100\n",
      "이수혁 70\n",
      "이나연 80\n",
      "양대수 75\n"
     ]
    }
   ],
   "source": [
    "for name, score in zip(names, scores):\n",
    "    print(name, score)"
   ]
  },
  {
   "cell_type": "markdown",
   "metadata": {},
   "source": [
    "#### while 반복문"
   ]
  },
  {
   "cell_type": "markdown",
   "metadata": {},
   "source": [
    "[2장: 64페이지]"
   ]
  },
  {
   "cell_type": "code",
   "execution_count": 58,
   "metadata": {},
   "outputs": [
    {
     "name": "stdout",
     "output_type": "stream",
     "text": [
      "[0, 1, 2, 3, 4, 5, 6, 7, 8, 9]\n"
     ]
    }
   ],
   "source": [
    "list_num = []   # 빈 리스트 생성\n",
    "count = 0       # count를 0으로 초기화\n",
    "\n",
    "while (count < 10):        # <조건> count가 10보다 작은지 검사 \n",
    "    list_num.append(count)  # <코드 블록> list_num에 count 추가\n",
    "    count = count + 1       # <코드 블록> count를 1씩 증가\n",
    "    \n",
    "print(list_num) # 리스트 list_num의 내용을 출력"
   ]
  },
  {
   "cell_type": "markdown",
   "metadata": {},
   "source": [
    "## 2.3 데이터의 출력 "
   ]
  },
  {
   "cell_type": "markdown",
   "metadata": {},
   "source": [
    "### 2.3.1 기본 출력"
   ]
  },
  {
   "cell_type": "markdown",
   "metadata": {},
   "source": [
    "[2장: 65페이지]"
   ]
  },
  {
   "cell_type": "code",
   "execution_count": 59,
   "metadata": {},
   "outputs": [
    {
     "name": "stdout",
     "output_type": "stream",
     "text": [
      "1 2 3 4 5\n",
      "a b c d e\n",
      "123 abc True\n",
      "['abc', 123, 'def'] {'a': 1, 'b': 2}\n"
     ]
    }
   ],
   "source": [
    "print(1, 2, 3, 4, 5) # 숫자 출력\n",
    "print('a', 'b', 'c', 'd', 'e') # 문자 출력\n",
    "print(123, \"abc\", True) # 숫자, 문자, 불 출력\n",
    "print(['abc', 123, 'def'], {\"a\": 1, \"b\": 2}) # 리스트와 딕셔너리 출력"
   ]
  },
  {
   "cell_type": "code",
   "execution_count": 60,
   "metadata": {},
   "outputs": [
    {
     "name": "stdout",
     "output_type": "stream",
     "text": [
      "합계:\n",
      "90\n",
      "합계:90\n"
     ]
    }
   ],
   "source": [
    "print(\"합계:\") # end 옵션이 없으면 개행문자가 들어가서 줄 바꿈 수행\n",
    "print(90)\n",
    "print(\"합계:\", end='') # end 옵션에 빈 문자열을 입력해 줄 바꿈이 없도록 함\n",
    "print(90)"
   ]
  },
  {
   "cell_type": "code",
   "execution_count": 61,
   "metadata": {},
   "outputs": [
    {
     "name": "stdout",
     "output_type": "stream",
     "text": [
      "나는 파이썬을 이용해 \n",
      "많은 업무를 \n",
      "자동화합니다.\n"
     ]
    }
   ],
   "source": [
    "print(\"나는 파이썬을 이용해 \\n많은 업무를 \\n자동화합니다.\")"
   ]
  },
  {
   "cell_type": "markdown",
   "metadata": {},
   "source": [
    "### 2.3.2 형식 지정 출력"
   ]
  },
  {
   "cell_type": "markdown",
   "metadata": {},
   "source": [
    "[2장: 66페이지]"
   ]
  },
  {
   "cell_type": "code",
   "execution_count": 62,
   "metadata": {},
   "outputs": [
    {
     "name": "stdout",
     "output_type": "stream",
     "text": [
      "문자열 출력: Banana, Apple, Orange\n",
      "문자열 출력: Orange, Banana, Apple\n"
     ]
    }
   ],
   "source": [
    "fruit_0 = \"Banana\"\n",
    "fruit_1 = \"Apple\"\n",
    "fruit_2 = \"Orange\"\n",
    "\n",
    "print(\"문자열 출력: {0}, {1}, {2}\".format(fruit_0, fruit_1, fruit_2))\n",
    "print(\"문자열 출력: {2}, {0}, {1}\".format(fruit_0, fruit_1, fruit_2))"
   ]
  },
  {
   "cell_type": "code",
   "execution_count": 63,
   "metadata": {},
   "outputs": [
    {
     "name": "stdout",
     "output_type": "stream",
     "text": [
      "문자열 출력: Banana, Apple, Orange\n"
     ]
    }
   ],
   "source": [
    "print(\"문자열 출력: {}, {}, {}\".format(fruit_0, fruit_1, fruit_2))"
   ]
  },
  {
   "cell_type": "markdown",
   "metadata": {},
   "source": [
    "[2장: 67페이지]"
   ]
  },
  {
   "cell_type": "code",
   "execution_count": 64,
   "metadata": {},
   "outputs": [
    {
     "name": "stdout",
     "output_type": "stream",
     "text": [
      "숫자 출력: 123, 3.141592653589793\n"
     ]
    }
   ],
   "source": [
    "num_int = 123\n",
    "num_float= 3.14159265358979323846 \n",
    "\n",
    "print(\"숫자 출력: {0}, {1}\".format(num_int, num_float))"
   ]
  },
  {
   "cell_type": "code",
   "execution_count": 65,
   "metadata": {},
   "outputs": [
    {
     "name": "stdout",
     "output_type": "stream",
     "text": [
      "이름: 최서희, 전화번호: 010-xyz-1234\n"
     ]
    }
   ],
   "source": [
    "name = \"최서희\"\n",
    "phone_number = \"010-xyz-1234\"\n",
    "\n",
    "print(f\"이름: {name}, 전화번호: {phone_number}\") # f-문자열 방식을 이용한 출력"
   ]
  },
  {
   "cell_type": "markdown",
   "metadata": {},
   "source": [
    "## 2.4 예외 처리"
   ]
  },
  {
   "cell_type": "markdown",
   "metadata": {},
   "source": [
    "### 2.4.1 try ~ except 사용"
   ]
  },
  {
   "cell_type": "markdown",
   "metadata": {},
   "source": [
    "[2장: 68페이지]"
   ]
  },
  {
   "cell_type": "code",
   "execution_count": 66,
   "metadata": {},
   "outputs": [
    {
     "ename": "ZeroDivisionError",
     "evalue": "division by zero",
     "output_type": "error",
     "traceback": [
      "\u001b[1;31m---------------------------------------------------------------------------\u001b[0m",
      "\u001b[1;31mZeroDivisionError\u001b[0m                         Traceback (most recent call last)",
      "Cell \u001b[1;32mIn[66], line 1\u001b[0m\n\u001b[1;32m----> 1\u001b[0m \u001b[38;5;241;43m10\u001b[39;49m\u001b[38;5;241;43m/\u001b[39;49m\u001b[38;5;241;43m0\u001b[39;49m\n",
      "\u001b[1;31mZeroDivisionError\u001b[0m: division by zero"
     ]
    }
   ],
   "source": [
    "10/0"
   ]
  },
  {
   "cell_type": "code",
   "execution_count": 67,
   "metadata": {},
   "outputs": [
    {
     "name": "stdout",
     "output_type": "stream",
     "text": [
      "실행 중 오류가 발생했습니다.\n"
     ]
    }
   ],
   "source": [
    "try:\n",
    "    10/0\n",
    "except:\n",
    "    print(\"실행 중 오류가 발생했습니다.\")"
   ]
  },
  {
   "cell_type": "markdown",
   "metadata": {},
   "source": [
    "[2장: 69페이지]"
   ]
  },
  {
   "cell_type": "code",
   "execution_count": 68,
   "metadata": {},
   "outputs": [
    {
     "name": "stdout",
     "output_type": "stream",
     "text": [
      "실행 중 숫자를 0으로 나누었습니다.\n"
     ]
    }
   ],
   "source": [
    "try:\n",
    "    10/0\n",
    "except ZeroDivisionError:\n",
    "    print(\"실행 중 숫자를 0으로 나누었습니다.\")"
   ]
  },
  {
   "cell_type": "code",
   "execution_count": 69,
   "metadata": {},
   "outputs": [
    {
     "name": "stdout",
     "output_type": "stream",
     "text": [
      "k = 1\n",
      "k = 2\n",
      "k = 3. 일부러 오류 발생\n",
      "실행 중 오류가 발생했습니다.\n"
     ]
    }
   ],
   "source": [
    "try:\n",
    "    for k in [1,2,3]:\n",
    "        if(k==3):\n",
    "            print(\"k = {0}. 일부러 오류 발생\".format(k))\n",
    "            raise\n",
    "        else:\n",
    "            print(\"k = {0}\".format(k))\n",
    "except:\n",
    "    print(\"실행 중 오류가 발생했습니다.\")"
   ]
  },
  {
   "cell_type": "markdown",
   "metadata": {},
   "source": [
    "### 2.4.2 try ~ finally 사용"
   ]
  },
  {
   "cell_type": "markdown",
   "metadata": {},
   "source": [
    "[2장: 70페이지]"
   ]
  },
  {
   "cell_type": "code",
   "execution_count": 70,
   "metadata": {},
   "outputs": [
    {
     "name": "stdout",
     "output_type": "stream",
     "text": [
      "오류가 발생했습니다.\n",
      "tuple_num = (1, 2, 3)\n"
     ]
    }
   ],
   "source": [
    "tuple_num = (1,2,3) # 튜플 데이터\n",
    "\n",
    "try:\n",
    "    tuple_num[0] = 4 # 튜플의 요소를 변경할 수 없어 오류 발생\n",
    "except:\n",
    "    print(\"오류가 발생했습니다.\")\n",
    "finally:\n",
    "    print(\"tuple_num = {0}\".format(tuple_num))"
   ]
  },
  {
   "cell_type": "markdown",
   "metadata": {},
   "source": [
    "## 2.5 정리"
   ]
  }
 ],
 "metadata": {
  "kernelspec": {
   "display_name": "study_clone",
   "language": "python",
   "name": "study_clone"
  },
  "language_info": {
   "codemirror_mode": {
    "name": "ipython",
    "version": 3
   },
   "file_extension": ".py",
   "mimetype": "text/x-python",
   "name": "python",
   "nbconvert_exporter": "python",
   "pygments_lexer": "ipython3",
   "version": "3.10.14"
  },
  "toc": {
   "base_numbering": "2",
   "nav_menu": {},
   "number_sections": false,
   "sideBar": true,
   "skip_h1_title": false,
   "title_cell": "Table of Contents",
   "title_sidebar": "Contents",
   "toc_cell": false,
   "toc_position": {
    "height": "814px",
    "left": "33px",
    "top": "142px",
    "width": "343.4px"
   },
   "toc_section_display": true,
   "toc_window_display": false
  }
 },
 "nbformat": 4,
 "nbformat_minor": 4
}
