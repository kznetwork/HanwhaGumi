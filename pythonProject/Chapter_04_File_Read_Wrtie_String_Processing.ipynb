{
 "cells": [
  {
   "cell_type": "markdown",
   "metadata": {},
   "source": [
    "# 4장 파일 읽고 쓰기와 문자열 처리"
   ]
  },
  {
   "cell_type": "markdown",
   "metadata": {},
   "source": [
    "## 4.1 파일 읽고 쓰기"
   ]
  },
  {
   "cell_type": "markdown",
   "metadata": {},
   "source": [
    "### 4.1.1 파일 읽고 쓰기 위한 기본 구조"
   ]
  },
  {
   "cell_type": "markdown",
   "metadata": {},
   "source": [
    "### 4.1.2 파일 읽기"
   ]
  },
  {
   "cell_type": "markdown",
   "metadata": {},
   "source": [
    "[4장: 99페이지]"
   ]
  },
  {
   "cell_type": "code",
   "execution_count": 1,
   "metadata": {},
   "outputs": [
    {
     "name": "stdout",
     "output_type": "stream",
     "text": [
      "data 디렉터리의 존재 여부: True\n"
     ]
    }
   ],
   "source": [
    "from pathlib import Path\n",
    "\n",
    "# 디렉터리 경로를 입력해 path 객체를 생성\n",
    "dir_path = Path('data/')          \n",
    "\n",
    "# 디렉터리가 없다면 생성\n",
    "dir_path.mkdir(parents=True, exist_ok=True)\n",
    "\n",
    "# 생성한 디렉터리의 존재 여부 확인\n",
    "print(\"{0} 디렉터리의 존재 여부: {1}\".format(dir_path, dir_path.exists()))"
   ]
  },
  {
   "cell_type": "code",
   "execution_count": 2,
   "metadata": {},
   "outputs": [
    {
     "name": "stdout",
     "output_type": "stream",
     "text": [
      "Writing data\\read_test.txt\n"
     ]
    }
   ],
   "source": [
    "%%writefile data\\read_test.txt\n",
    "All grown-up\n",
    "were once children,\n",
    "although few of them\n",
    "remember it."
   ]
  },
  {
   "cell_type": "markdown",
   "metadata": {},
   "source": [
    "[4장: 100페이지]"
   ]
  },
  {
   "cell_type": "code",
   "execution_count": 3,
   "metadata": {},
   "outputs": [
    {
     "name": "stdout",
     "output_type": "stream",
     "text": [
      "All grown-up\n",
      "were once children,\n",
      "although few of them\n",
      "remember it.\n",
      "\n"
     ]
    }
   ],
   "source": [
    "f = open('data/read_test.txt', 'r') # 파일 열기(읽기 모드)\n",
    "data = f.read() # 파일의 내용 전체를 읽어서 변수에 할당\n",
    "f.close()       # 파일 닫기\n",
    "\n",
    "print(data)     # 읽어온 파일 내용 출력"
   ]
  },
  {
   "cell_type": "code",
   "execution_count": 4,
   "metadata": {},
   "outputs": [
    {
     "name": "stdout",
     "output_type": "stream",
     "text": [
      "대한민국 헌법(cp949로 인코딩)\n",
      "\n",
      "제1조\n",
      "①대한민국은 민주공화국이다.\n",
      "②대한민국의 주권은 국민에게 있고, 모든 권력은 국민으로부터 나온다.\n"
     ]
    }
   ],
   "source": [
    "# cp949로 인코딩된 한글 텍스트 파일 읽기 \n",
    "file_name='data/헌법_cp949.txt' # 파일 경로를 변수에 할당\n",
    "\n",
    "f = open(file_name, 'r', encoding='cp949') # 파일 열기(읽기 모드)\n",
    "# f = open(file_name)\n",
    "data = f.read() # 파일의 내용 전체를 읽어서 변수에 할당\n",
    "f.close()       # 파일 닫기\n",
    "\n",
    "print(data)     # 읽어온 파일 내용 출력"
   ]
  },
  {
   "cell_type": "markdown",
   "metadata": {},
   "source": [
    "[4장: 101페이지]"
   ]
  },
  {
   "cell_type": "code",
   "execution_count": 5,
   "metadata": {},
   "outputs": [
    {
     "name": "stdout",
     "output_type": "stream",
     "text": [
      "대한민국 헌법(utf-8로 인코딩)\n",
      "\n",
      "제1조\n",
      "①대한민국은 민주공화국이다.\n",
      "②대한민국의 주권은 국민에게 있고, 모든 권력은 국민으로부터 나온다.\n"
     ]
    }
   ],
   "source": [
    "# utf-8로 인코딩된 한글 텍스트 파일 읽기 \n",
    "file_name = 'data/헌법_utf8.txt' # 파일 경로를 변수에 할당\n",
    "\n",
    "f = open(file_name, 'r', encoding='utf-8') # 파일 열기(읽기 모드)\n",
    "data = f.read() # 파일의 내용 전체를 읽어서 변수에 할당\n",
    "f.close()       # 파일 닫기\n",
    "\n",
    "print(data)     # 읽어온 파일 내용 출력"
   ]
  },
  {
   "cell_type": "code",
   "execution_count": 6,
   "metadata": {},
   "outputs": [
    {
     "data": {
      "image/png": "[encoded data removed]",
      "text/plain": [
       "<IPython.core.display.Image object>"
      ]
     },
     "execution_count": 6,
     "metadata": {},
     "output_type": "execute_result"
    }
   ],
   "source": [
    "from IPython import display\n",
    "\n",
    "file_name = 'data/python-logo.png' # 파일 경로를 변수에 할당\n",
    "display.Image(file_name) # 이미지 파일 표시"
   ]
  },
  {
   "cell_type": "markdown",
   "metadata": {},
   "source": [
    "[4장: 102페이지]"
   ]
  },
  {
   "cell_type": "code",
   "execution_count": 7,
   "metadata": {},
   "outputs": [
    {
     "name": "stdout",
     "output_type": "stream",
     "text": [
      "b'\\x89PNG\\r\\n\\x1a\\n\\x00\\x00\\x00\\rIHDR\\x00\\x00\\x01\"\\x00\\x00\\x00R\\x08\\x06\\x00\\x00\\x00\\xf0\\xeb\\xd9\\xc3\\x00\\x00\\x00\\tpHYs\\x00\\x00\\x0b\\x13\\x00\\x00\\x0b\\x13\\x01'\n"
     ]
    }
   ],
   "source": [
    "# 이미지 파일 읽기 \n",
    "file_name = 'data/python-logo.png' # 파일 경로를 변수에 할당\n",
    "\n",
    "f = open(file_name, 'br') # 파일 열기(바이너리 파일 읽기 모드)\n",
    "data = f.read() # 파일의 내용 전체를 읽어서 변수에 할당\n",
    "f.close()       # 파일 닫기\n",
    "\n",
    "print(data[:50])     # 읽어온 파일 내용 출력"
   ]
  },
  {
   "cell_type": "markdown",
   "metadata": {},
   "source": [
    "### 4.1.3 텍스트 파일을 한 줄씩 읽어 처리하기"
   ]
  },
  {
   "cell_type": "markdown",
   "metadata": {},
   "source": [
    "#### 한 줄씩 읽어오기"
   ]
  },
  {
   "cell_type": "markdown",
   "metadata": {},
   "source": [
    "[4장: 103페이지]"
   ]
  },
  {
   "cell_type": "code",
   "execution_count": 8,
   "metadata": {
    "scrolled": true
   },
   "outputs": [
    {
     "name": "stdout",
     "output_type": "stream",
     "text": [
      "All grown-up\n",
      "were once children,\n"
     ]
    }
   ],
   "source": [
    "file_name = 'data/read_test.txt' # 파일 경로를 변수에 할당\n",
    "\n",
    "f = open(file_name, 'r') # 파일 열기(읽기 모드)\n",
    "\n",
    "line1 = f.readline() # 파일의 내용을 한 줄씩 읽어서 변수에 할당\n",
    "line2 = f.readline() # 파일의 내용을 한 줄씩 읽어서 변수에 할당\n",
    "f.close()  # 파일 닫기\n",
    "\n",
    "print(line1, end='') # print 자체의 개행문자는 출력하지 않고 내용 출력\n",
    "print(line2, end='')"
   ]
  },
  {
   "cell_type": "code",
   "execution_count": 9,
   "metadata": {},
   "outputs": [
    {
     "name": "stdout",
     "output_type": "stream",
     "text": [
      "1: All grown-up\n",
      "2: were once children,\n",
      "3: although few of them\n",
      "4: remember it.\n"
     ]
    }
   ],
   "source": [
    "file_name = 'data/read_test.txt' # 파일 경로를 변수에 할당\n",
    "\n",
    "f = open(file_name, 'r') # 파일 열기(읽기 모드)\n",
    "line_num = 0 # 줄 수 표시를 위한 변수 초기화\n",
    "\n",
    "while True:              \n",
    "    line = f.readline() # 파일의 내용을 한 줄씩 읽어서 변수에 할당\n",
    "    if (line == ''):    # line이 빈 문자열인지 검사 \n",
    "        break           # 빈 문자열이면 while 문을 빠져나감\n",
    "    line_num = line_num + 1  # line_num 을 1씩 증가 \n",
    "    print(\"{0}: {1}\".format(line_num, line), end='') # 줄 수와 읽은 문자열 출력\n",
    "    \n",
    "f.close() # 파일 닫기"
   ]
  },
  {
   "cell_type": "markdown",
   "metadata": {},
   "source": [
    "#### 한 줄씩을 요소로 갖는 리스트로 읽어오기"
   ]
  },
  {
   "cell_type": "markdown",
   "metadata": {},
   "source": [
    "[4장: 104페이지]"
   ]
  },
  {
   "cell_type": "code",
   "execution_count": 10,
   "metadata": {},
   "outputs": [
    {
     "name": "stdout",
     "output_type": "stream",
     "text": [
      "['All grown-up\\n', 'were once children,\\n', 'although few of them\\n', 'remember it.\\n']\n"
     ]
    }
   ],
   "source": [
    "file_name = 'data/read_test.txt' # 파일 경로를 변수에 할당\n",
    "\n",
    "f = open(file_name, 'r') # 파일 열기(읽기 모드)\n",
    "lines = f.readlines()    # 파일 전체의 내용을 읽어서 변수에 할당\n",
    "f.close()    # 파일 닫기\n",
    "\n",
    "print(lines)"
   ]
  },
  {
   "cell_type": "markdown",
   "metadata": {},
   "source": [
    "[4장: 105페이지]"
   ]
  },
  {
   "cell_type": "code",
   "execution_count": 11,
   "metadata": {},
   "outputs": [
    {
     "name": "stdout",
     "output_type": "stream",
     "text": [
      "1: All grown-up\n",
      "2: were once children,\n",
      "3: although few of them\n",
      "4: remember it.\n"
     ]
    }
   ],
   "source": [
    "file_name = 'data/read_test.txt' # 파일 경로를 변수에 할당\n",
    "\n",
    "f = open(file_name, 'r') # 파일 열기(읽기 모드)\n",
    "lines = f.readlines()    # 파일 전체의 내용을 읽어서 변수에 할당\n",
    "f.close() # 파일 닫기\n",
    "\n",
    "line_num = 0 # 줄 수 표시를 위한 변수 초기화\n",
    "for line in lines:\n",
    "    line_num = line_num + 1  # line_num 을 1씩 증가 \n",
    "    print(\"{0}: {1}\".format(line_num, line), end='') # 줄 수와 읽은 문자열 출력"
   ]
  },
  {
   "cell_type": "markdown",
   "metadata": {},
   "source": [
    "### 4.1.4 파일 쓰기"
   ]
  },
  {
   "cell_type": "markdown",
   "metadata": {},
   "source": [
    "[4장: 105페이지]"
   ]
  },
  {
   "cell_type": "code",
   "execution_count": 12,
   "metadata": {},
   "outputs": [
    {
     "name": "stdout",
     "output_type": "stream",
     "text": [
      "생성한 파일: data/write_test.txt\n"
     ]
    }
   ],
   "source": [
    "file_name = 'data/write_test.txt' # 파일 경로를 변수에 할당\n",
    "\n",
    "f = open(file_name, 'w') # 파일 열기(텍스트 파일 쓰기 모드)\n",
    "f.write(\"Python is powerful... and fast;\\n\") # 문자열을 파일에 쓰기\n",
    "f.write(\"plays well with others;\\n\")\n",
    "f.write(\"runs everywhere;\\n\")\n",
    "f.write(\"is friendly & easy to learn;\\n\")\n",
    "f.write(\"is Open.\\n\")\n",
    "f.close() # 파일 닫기\n",
    "\n",
    "print(\"생성한 파일:\", file_name) # 생성한 파일 이름 출력"
   ]
  },
  {
   "cell_type": "markdown",
   "metadata": {},
   "source": [
    "[4장: 106페이지]"
   ]
  },
  {
   "cell_type": "code",
   "execution_count": 13,
   "metadata": {},
   "outputs": [
    {
     "name": "stdout",
     "output_type": "stream",
     "text": [
      "Python is powerful... and fast;\n",
      "plays well with others;\n",
      "runs everywhere;\n",
      "is friendly & easy to learn;\n",
      "is Open.\n"
     ]
    }
   ],
   "source": [
    "!type data\\write_test.txt"
   ]
  },
  {
   "cell_type": "code",
   "execution_count": 14,
   "metadata": {},
   "outputs": [
    {
     "name": "stdout",
     "output_type": "stream",
     "text": [
      "생성한 파일: data/two_times.txt\n"
     ]
    }
   ],
   "source": [
    "file_name = 'data/two_times.txt' # 파일 경로를 변수에 할당\n",
    "\n",
    "f = open(file_name, 'w') # 파일 열기(쓰기 모드)\n",
    "f.write(\"[구구단 2단의 일부]\\n\")\n",
    "for num in range(1, 6): # for문: num이 1~5까지 반복\n",
    "    format_string = \"2 x {0} = {1}\\n\".format(num, 2 * num) # 저장할 문자열 생성\n",
    "    f.write(format_string) # 파일에 문자열 쓰기\n",
    "f.close() # 파일 닫기\n",
    "\n",
    "print(\"생성한 파일:\", file_name) # 생성한 파일 이름 출력"
   ]
  },
  {
   "cell_type": "markdown",
   "metadata": {},
   "source": [
    "[4장: 107페이지]"
   ]
  },
  {
   "cell_type": "code",
   "execution_count": 15,
   "metadata": {},
   "outputs": [
    {
     "name": "stdout",
     "output_type": "stream",
     "text": [
      "[구구단 2단의 일부]\n",
      "2 x 1 = 2\n",
      "2 x 2 = 4\n",
      "2 x 3 = 6\n",
      "2 x 4 = 8\n",
      "2 x 5 = 10\n"
     ]
    }
   ],
   "source": [
    "!type data\\two_times.txt"
   ]
  },
  {
   "cell_type": "code",
   "execution_count": 16,
   "metadata": {},
   "outputs": [
    {
     "name": "stdout",
     "output_type": "stream",
     "text": [
      "생성한 이미지 파일: data/python-logo2.png\n"
     ]
    }
   ],
   "source": [
    "# 이미지 파일 읽고 쓰기 \n",
    "file_name = 'data/python-logo.png' # 읽을 파일 경로\n",
    "file_name2 = 'data/python-logo2.png' # 쓸 파일 경로\n",
    "\n",
    "f = open(file_name, 'br') # 파일 열기(바이너리 파일 읽기 모드)\n",
    "data = f.read() # 파일에서 이미지 데이터 읽어서 할당\n",
    "f.close()       # 파일 닫기\n",
    "\n",
    "f = open(file_name2, 'bw') # 파일 열기(바이너리 파일 쓰기 모드)\n",
    "f.write(data)  # 파일에 이미지 데이터 쓰기\n",
    "f.close()      # 파일 닫기\n",
    "\n",
    "print(\"생성한 이미지 파일:\", file_name2)"
   ]
  },
  {
   "cell_type": "code",
   "execution_count": 17,
   "metadata": {},
   "outputs": [
    {
     "data": {
      "image/png": "[encoded data removed]",
      "text/plain": [
       "<IPython.core.display.Image object>"
      ]
     },
     "execution_count": 17,
     "metadata": {},
     "output_type": "execute_result"
    }
   ],
   "source": [
    "from IPython import display\n",
    "\n",
    "display.Image(file_name2) # 이미지 파일 표시"
   ]
  },
  {
   "cell_type": "markdown",
   "metadata": {},
   "source": [
    "### 4.1.5 with 문으로 파일 읽고 쓰기 "
   ]
  },
  {
   "cell_type": "markdown",
   "metadata": {},
   "source": [
    "[4장: 108페이지]"
   ]
  },
  {
   "cell_type": "code",
   "execution_count": 18,
   "metadata": {},
   "outputs": [],
   "source": [
    "file_name = 'data/three_times.txt' # 파일 경로를 변수에 할당\n",
    "\n",
    "with open(file_name, 'w') as f: # 파일 열기(쓰기 모드)\n",
    "    f.write(\"[구구단 3단의 일부]\\n\")   \n",
    "    for num in range(1, 6): # for문: num이 1~5까지 반복\n",
    "        format_string = \"3 x {0} = {1}\\n\".format(num, 3 * num) # 저장할 문자열 생성\n",
    "        f.write(format_string) # 파일에 문자열 쓰기"
   ]
  },
  {
   "cell_type": "code",
   "execution_count": 19,
   "metadata": {
    "scrolled": true
   },
   "outputs": [
    {
     "name": "stdout",
     "output_type": "stream",
     "text": [
      "[구구단 3단의 일부]\n",
      "3 x 1 = 3\n",
      "3 x 2 = 6\n",
      "3 x 3 = 9\n",
      "3 x 4 = 12\n",
      "3 x 5 = 15\n",
      "\n"
     ]
    }
   ],
   "source": [
    "with open(file_name, 'r') as f: # 파일 열기(읽기 모드)\n",
    "    data = f.read() # 파일에서 문자열 읽기\n",
    "    print(data)"
   ]
  },
  {
   "cell_type": "markdown",
   "metadata": {},
   "source": [
    "## 4.2 문자열 처리"
   ]
  },
  {
   "cell_type": "markdown",
   "metadata": {},
   "source": [
    "### 4.2.1 문자열 분리하기"
   ]
  },
  {
   "cell_type": "markdown",
   "metadata": {},
   "source": [
    "[4장: 109페이지]"
   ]
  },
  {
   "cell_type": "code",
   "execution_count": 20,
   "metadata": {
    "scrolled": true
   },
   "outputs": [
    {
     "data": {
      "text/plain": [
       "['에스프레소', '아메리카노', '카페라떼', '카푸치노']"
      ]
     },
     "execution_count": 20,
     "metadata": {},
     "output_type": "execute_result"
    }
   ],
   "source": [
    "\"에스프레소,아메리카노,카페라떼,카푸치노\".split(',')"
   ]
  },
  {
   "cell_type": "code",
   "execution_count": 21,
   "metadata": {},
   "outputs": [
    {
     "data": {
      "text/plain": [
       "['에스프레소', '아메리카노', '카페라떼', '카푸치노']"
      ]
     },
     "execution_count": 21,
     "metadata": {},
     "output_type": "execute_result"
    }
   ],
   "source": [
    "\"  에스프레소 아메리카노   카페라떼      카푸치노\\n\".split()"
   ]
  },
  {
   "cell_type": "markdown",
   "metadata": {},
   "source": [
    "### 4.2.2 불필요한 문자열 삭제하기"
   ]
  },
  {
   "cell_type": "markdown",
   "metadata": {},
   "source": [
    "[4장: 110페이지]"
   ]
  },
  {
   "cell_type": "code",
   "execution_count": 22,
   "metadata": {},
   "outputs": [
    {
     "data": {
      "text/plain": [
       "'Python'"
      ]
     },
     "execution_count": 22,
     "metadata": {},
     "output_type": "execute_result"
    }
   ],
   "source": [
    "\"aaaaPythonaaa\".strip('a')"
   ]
  },
  {
   "cell_type": "code",
   "execution_count": 23,
   "metadata": {},
   "outputs": [
    {
     "data": {
      "text/plain": [
       "'Python'"
      ]
     },
     "execution_count": 23,
     "metadata": {},
     "output_type": "execute_result"
    }
   ],
   "source": [
    "\"\\n  Python  \\n\\n\".strip()"
   ]
  },
  {
   "cell_type": "markdown",
   "metadata": {},
   "source": [
    "### 4.2.3 문자열 연결하기"
   ]
  },
  {
   "cell_type": "markdown",
   "metadata": {},
   "source": [
    "[4장: 111페이지]"
   ]
  },
  {
   "cell_type": "code",
   "execution_count": 24,
   "metadata": {},
   "outputs": [
    {
     "data": {
      "text/plain": [
       "'서울시 서초구 반포대로 201(반포동)'"
      ]
     },
     "execution_count": 24,
     "metadata": {},
     "output_type": "execute_result"
    }
   ],
   "source": [
    "\" \".join([\"서울시\",\"서초구\",\"반포대로\",\"201(반포동)\"])"
   ]
  },
  {
   "cell_type": "code",
   "execution_count": 25,
   "metadata": {},
   "outputs": [
    {
     "data": {
      "text/plain": [
       "'서울시****서초구****반포대로****201(반포동)'"
      ]
     },
     "execution_count": 25,
     "metadata": {},
     "output_type": "execute_result"
    }
   ],
   "source": [
    "\"****\".join([\"서울시\",\"서초구\",\"반포대로\",\"201(반포동)\"])"
   ]
  },
  {
   "cell_type": "code",
   "execution_count": 26,
   "metadata": {},
   "outputs": [
    {
     "data": {
      "text/plain": [
       "'서울시\\n서초구\\n반포대로\\n201(반포동)'"
      ]
     },
     "execution_count": 26,
     "metadata": {},
     "output_type": "execute_result"
    }
   ],
   "source": [
    "joined_str = \"\\n\".join([\"서울시\",\"서초구\",\"반포대로\",\"201(반포동)\"])\n",
    "joined_str"
   ]
  },
  {
   "cell_type": "code",
   "execution_count": 27,
   "metadata": {},
   "outputs": [
    {
     "name": "stdout",
     "output_type": "stream",
     "text": [
      "서울시\n",
      "서초구\n",
      "반포대로\n",
      "201(반포동)\n"
     ]
    }
   ],
   "source": [
    "print(joined_str)"
   ]
  },
  {
   "cell_type": "markdown",
   "metadata": {},
   "source": [
    "## 4.3 내장 모듈을 활용한 문자열 처리"
   ]
  },
  {
   "cell_type": "markdown",
   "metadata": {},
   "source": [
    "### 4.3.1 문자열 나누기"
   ]
  },
  {
   "cell_type": "markdown",
   "metadata": {},
   "source": [
    "[4장: 121페이지]"
   ]
  },
  {
   "cell_type": "code",
   "execution_count": 28,
   "metadata": {},
   "outputs": [
    {
     "name": "stdout",
     "output_type": "stream",
     "text": [
      "파이썬은 배우기 쉬운 프로그래밍 언어입니다. 아주 편리한 언어죠. 파이썬은 배우기 쉬운 프로그래밍 언어입니다. 아주 편리한 언어죠. 파이썬은 배우기 쉬운 프로그래밍 언어입니다. 아주 편리한 언어죠. \n"
     ]
    },
    {
     "data": {
      "text/plain": [
       "['파이썬은 배우기 쉬운',\n",
       " '프로그래밍 언어입니다. 아주',\n",
       " '편리한 언어죠. 파이썬은',\n",
       " '배우기 쉬운 프로그래밍',\n",
       " '언어입니다. 아주 편리한',\n",
       " '언어죠. 파이썬은 배우기 쉬운',\n",
       " '프로그래밍 언어입니다. 아주',\n",
       " '편리한 언어죠.']"
      ]
     },
     "execution_count": 28,
     "metadata": {},
     "output_type": "execute_result"
    }
   ],
   "source": [
    "import textwrap\n",
    "\n",
    "# 긴 텍스트를 생성\n",
    "text = \"파이썬은 배우기 쉬운 프로그래밍 언어입니다. 아주 편리한 언어죠. \" * 3\n",
    "print(text) # 텍스트 출력\n",
    "\n",
    "textwrap.wrap(text, width=16) # width를 16으로 지정"
   ]
  },
  {
   "cell_type": "code",
   "execution_count": 29,
   "metadata": {},
   "outputs": [
    {
     "data": {
      "text/plain": [
       "['파이썬은 배우기 쉬운 프로그래밍',\n",
       " '언어입니다. 아주 편리한 언어죠.',\n",
       " '파이썬은 배우기 쉬운 프로그래밍',\n",
       " '언어입니다. 아주 편리한 언어죠.',\n",
       " '파이썬은 배우기 쉬운 프로그래밍',\n",
       " '언어입니다. 아주 편리한 언어죠.']"
      ]
     },
     "execution_count": 29,
     "metadata": {},
     "output_type": "execute_result"
    }
   ],
   "source": [
    "textwrap.wrap(text, width=20) # width를 20으로 지정"
   ]
  },
  {
   "cell_type": "markdown",
   "metadata": {},
   "source": [
    "### 4.3.2 문자열 축약하기"
   ]
  },
  {
   "cell_type": "markdown",
   "metadata": {},
   "source": [
    "[4장: 114페이지]"
   ]
  },
  {
   "cell_type": "code",
   "execution_count": 30,
   "metadata": {},
   "outputs": [
    {
     "data": {
      "text/plain": [
       "'안녕. 나는 인공 지능 로봇이야.'"
      ]
     },
     "execution_count": 30,
     "metadata": {},
     "output_type": "execute_result"
    }
   ],
   "source": [
    "textwrap.shorten(\"안녕. 나는 인공 지능 로봇이야.\", width=20)"
   ]
  },
  {
   "cell_type": "code",
   "execution_count": 31,
   "metadata": {},
   "outputs": [
    {
     "data": {
      "text/plain": [
       "'안녕. 나는 인공 [...]'"
      ]
     },
     "execution_count": 31,
     "metadata": {},
     "output_type": "execute_result"
    }
   ],
   "source": [
    "textwrap.shorten(\"안녕. 나는 인공 지능 로봇이야.\", width=15)"
   ]
  },
  {
   "cell_type": "code",
   "execution_count": 32,
   "metadata": {},
   "outputs": [
    {
     "data": {
      "text/plain": [
       "'안녕. 나는 인공..'"
      ]
     },
     "execution_count": 32,
     "metadata": {},
     "output_type": "execute_result"
    }
   ],
   "source": [
    "textwrap.shorten(\"안녕. 나는 인공 지능 로봇이야.\", width=12, placeholder=\"..\")"
   ]
  },
  {
   "cell_type": "code",
   "execution_count": 33,
   "metadata": {},
   "outputs": [
    {
     "name": "stdout",
     "output_type": "stream",
     "text": [
      "- 원본 문자열 길이:  33\n",
      "- 축약 문자열 길이:  24\n",
      "- 축약 문자열: 파이썬은 배우기 쉬운 프로그래밍 언어입니다.\n"
     ]
    }
   ],
   "source": [
    "text = \"  파이썬은 배우기   쉬운   프로그래밍 언어입니다.   \"\n",
    "\n",
    "shorten_text = textwrap.shorten(text, 25)\n",
    "\n",
    "print(\"- 원본 문자열 길이: \", len(text))\n",
    "print(\"- 축약 문자열 길이: \", len(shorten_text))\n",
    "print(\"- 축약 문자열:\", shorten_text)"
   ]
  },
  {
   "cell_type": "markdown",
   "metadata": {},
   "source": [
    "[4장: 115페이지]"
   ]
  },
  {
   "cell_type": "code",
   "execution_count": 34,
   "metadata": {},
   "outputs": [
    {
     "name": "stdout",
     "output_type": "stream",
     "text": [
      "- 축약 문자열 길이:  20\n",
      "- 축약 문자열: 파이썬은 배우기 [..이하 생략..]\n"
     ]
    }
   ],
   "source": [
    "shorten_text = textwrap.shorten(text, 20, placeholder=' [..이하 생략..]')\n",
    "\n",
    "print(\"- 축약 문자열 길이: \", len(shorten_text))\n",
    "print(\"- 축약 문자열:\",shorten_text)"
   ]
  },
  {
   "cell_type": "markdown",
   "metadata": {},
   "source": [
    "## 4.4 정리"
   ]
  }
 ],
 "metadata": {
  "kernelspec": {
   "display_name": "Python 3 (ipykernel)",
   "language": "python",
   "name": "python3"
  },
  "language_info": {
   "codemirror_mode": {
    "name": "ipython",
    "version": 3
   },
   "file_extension": ".py",
   "mimetype": "text/x-python",
   "name": "python",
   "nbconvert_exporter": "python",
   "pygments_lexer": "ipython3",
   "version": "3.12.4"
  },
  "toc": {
   "base_numbering": "4",
   "nav_menu": {},
   "number_sections": false,
   "sideBar": true,
   "skip_h1_title": false,
   "title_cell": "Table of Contents",
   "title_sidebar": "Contents",
   "toc_cell": false,
   "toc_position": {
    "height": "calc(100% - 180px)",
    "left": "10px",
    "top": "150px",
    "width": "409px"
   },
   "toc_section_display": true,
   "toc_window_display": false
  }
 },
 "nbformat": 4,
 "nbformat_minor": 4
}
